{
 "cells": [
  {
   "cell_type": "code",
   "execution_count": 5,
   "metadata": {},
   "outputs": [],
   "source": [
    "import tqdm.autonotebook as tqdm\n",
    "from multiprocessing.pool import ThreadPool\n",
    "from collections import deque\n",
    "\n",
    "import time"
   ]
  },
  {
   "cell_type": "code",
   "execution_count": 18,
   "metadata": {},
   "outputs": [],
   "source": [
    "def func(a, b):\n",
    "    time.sleep(0.1)\n",
    "    return a+b"
   ]
  },
  {
   "cell_type": "code",
   "execution_count": 28,
   "metadata": {},
   "outputs": [
    {
     "data": {
      "application/vnd.jupyter.widget-view+json": {
       "model_id": "321821c622ce482b9baa3fcfb932b64c",
       "version_major": 2,
       "version_minor": 0
      },
      "text/plain": [
       "HBox(children=(IntProgress(value=0), HTML(value='')))"
      ]
     },
     "metadata": {},
     "output_type": "display_data"
    },
    {
     "name": "stdout",
     "output_type": "stream",
     "text": [
      "\n",
      "4950\n"
     ]
    }
   ],
   "source": [
    "threadn = 10\n",
    "pool = ThreadPool(processes = threadn)\n",
    "pending = deque()\n",
    "\n",
    "num_tasks = 100\n",
    "n_in, n_out = 0, 0\n",
    "r = 0\n",
    "\n",
    "pbar = tqdm.tqdm(total=num_tasks)\n",
    "while n_out < num_tasks:\n",
    "    while len(pending) > 0 and pending[0].ready():\n",
    "        r += pending.popleft().get()\n",
    "        n_out += 1\n",
    "        pbar.update(1)\n",
    "    if len(pending) < threadn and n_in < num_tasks:\n",
    "        task = pool.apply_async(func, (n_in, 0))\n",
    "        pending.append(task)\n",
    "        n_in += 1\n",
    "pbar.close()\n",
    "        \n",
    "print(r)"
   ]
  },
  {
   "cell_type": "code",
   "execution_count": null,
   "metadata": {},
   "outputs": [],
   "source": []
  }
 ],
 "metadata": {
  "kernelspec": {
   "display_name": "Python 3",
   "language": "python",
   "name": "python3"
  },
  "language_info": {
   "codemirror_mode": {
    "name": "ipython",
    "version": 3
   },
   "file_extension": ".py",
   "mimetype": "text/x-python",
   "name": "python",
   "nbconvert_exporter": "python",
   "pygments_lexer": "ipython3",
   "version": "3.6.6"
  }
 },
 "nbformat": 4,
 "nbformat_minor": 2
}
